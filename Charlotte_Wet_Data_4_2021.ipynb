{
  "nbformat": 4,
  "nbformat_minor": 0,
  "metadata": {
    "colab": {
      "name": "Charlotte_Wet_Data_4_2021.ipynb",
      "provenance": [],
      "collapsed_sections": [],
      "authorship_tag": "ABX9TyP7DqPgbyXlXhADW3bYltxi",
      "include_colab_link": true
    },
    "kernelspec": {
      "display_name": "Python 3",
      "name": "python3"
    },
    "language_info": {
      "name": "python"
    }
  },
  "cells": [
    {
      "cell_type": "markdown",
      "metadata": {
        "id": "view-in-github",
        "colab_type": "text"
      },
      "source": [
        "<a href=\"https://colab.research.google.com/github/dvaughanCogniCom/jupyter_notebooks/blob/main/Charlotte_Wet_Data_4_2021.ipynb\" target=\"_parent\"><img src=\"https://colab.research.google.com/assets/colab-badge.svg\" alt=\"Open In Colab\"/></a>"
      ]
    },
    {
      "cell_type": "markdown",
      "metadata": {
        "id": "N52JHpk9GVDG"
      },
      "source": [
        "# Import Track Data\n",
        "\n"
      ]
    },
    {
      "cell_type": "code",
      "metadata": {
        "colab": {
          "resources": {
            "http://localhost:8080/nbextensions/google.colab/files.js": {
              "data": "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",
              "ok": true,
              "headers": [
                [
                  "content-type",
                  "application/javascript"
                ]
              ],
              "status": 200,
              "status_text": ""
            }
          },
          "base_uri": "https://localhost:8080/",
          "height": 73
        },
        "id": "723v9O-w0yBb",
        "outputId": "8f5dcd2f-5efd-4bf9-c4c4-5c2d245cab6b"
      },
      "source": [
        "from google.colab import files\n",
        "uploaded = files.upload()\n",
        "\n",
        "import pandas as pd\n",
        "import io"
      ],
      "execution_count": null,
      "outputs": [
        {
          "output_type": "display_data",
          "data": {
            "text/html": [
              "\n",
              "     <input type=\"file\" id=\"files-9e9a8723-e8c5-4ba0-b86d-89e878f606a4\" name=\"files[]\" multiple disabled\n",
              "        style=\"border:none\" />\n",
              "     <output id=\"result-9e9a8723-e8c5-4ba0-b86d-89e878f606a4\">\n",
              "      Upload widget is only available when the cell has been executed in the\n",
              "      current browser session. Please rerun this cell to enable.\n",
              "      </output>\n",
              "      <script src=\"/nbextensions/google.colab/files.js\"></script> "
            ],
            "text/plain": [
              "<IPython.core.display.HTML object>"
            ]
          },
          "metadata": {}
        },
        {
          "output_type": "stream",
          "name": "stdout",
          "text": [
            "Saving Charlotte_4_10_2021_A.csv to Charlotte_4_10_2021_A.csv\n"
          ]
        }
      ]
    },
    {
      "cell_type": "code",
      "metadata": {
        "id": "bYbkaKl-0657"
      },
      "source": [
        "import matplotlib.pyplot as plt\n",
        "plt.style.use('classic')\n",
        "\n",
        "%matplotlib inline\n",
        "import seaborn as sns\n",
        "sns.set_theme()\n"
      ],
      "execution_count": null,
      "outputs": []
    },
    {
      "cell_type": "markdown",
      "metadata": {
        "id": "LUxbcvIKGtL2"
      },
      "source": [
        "# Create dataframes"
      ]
    },
    {
      "cell_type": "code",
      "metadata": {
        "colab": {
          "base_uri": "https://localhost:8080/",
          "height": 204
        },
        "id": "ewNx2QOH-d7q",
        "outputId": "60cb0885-9202-4549-d3e1-ca8c91927c98"
      },
      "source": [
        "import numpy as np\n",
        "from datetime import datetime\n",
        "rain_start_time = datetime(2021, 4, 10, 10, 0, 0, 0).isoformat()\n",
        "rain_drizzle_time = datetime(2021, 4, 10, 10, 24, 0, 0).isoformat()\n",
        "rain_end_time = datetime(2021, 4, 10, 10, 30, 0, 0).isoformat()\n",
        "track_dry_time = datetime(2021, 4, 10, 11, 28, 0, 0).isoformat()\n",
        "df = pd.read_csv(io.StringIO(uploaded['Charlotte_4_10_2021_A.csv'].decode('utf-8')), sep=',')\n",
        "df=df.drop(columns=['Ambient Temperature [°C]','Ambient Temperature [°F]'])\n",
        "df=df.rename(columns={\"Road Condition Lufft [logic]\":\"road_condition\",\"Friction []\":\"friction\",\"Ice Percent [%]\":\"ice_percent\",\"Dew Point [°F]\":\"dewpoint\", \"Surface Temperature [°F]\":\"temperature\", \"Water Film Height [mil]\":\"water film height\",\"Rel. Humidity o.r. [%]\":\"humidity\"})\n",
        "df['datetime']=df['date']+' '+df['time']\n",
        "df['datetime']=pd.to_datetime(df['datetime'])\n",
        "df=df.drop(columns=['date','time'])\n",
        "df['conditions']='dry'\n",
        "df['conditions']=np.where((df['datetime']>rain_start_time) & (df['datetime']<rain_drizzle_time),'rain',df['conditions'])\n",
        "df['conditions']=np.where((df['datetime']>rain_drizzle_time) & (df['datetime']<rain_end_time),'drizzle',df['conditions'])\n",
        "df['conditions']=np.where((df['datetime']>rain_end_time) & (df['datetime']<track_dry_time),'drying',df['conditions'])\n",
        "df.head()"
      ],
      "execution_count": null,
      "outputs": [
        {
          "output_type": "execute_result",
          "data": {
            "text/html": [
              "<div>\n",
              "<style scoped>\n",
              "    .dataframe tbody tr th:only-of-type {\n",
              "        vertical-align: middle;\n",
              "    }\n",
              "\n",
              "    .dataframe tbody tr th {\n",
              "        vertical-align: top;\n",
              "    }\n",
              "\n",
              "    .dataframe thead th {\n",
              "        text-align: right;\n",
              "    }\n",
              "</style>\n",
              "<table border=\"1\" class=\"dataframe\">\n",
              "  <thead>\n",
              "    <tr style=\"text-align: right;\">\n",
              "      <th></th>\n",
              "      <th>latitude</th>\n",
              "      <th>longitude</th>\n",
              "      <th>altitude</th>\n",
              "      <th>course</th>\n",
              "      <th>speed</th>\n",
              "      <th>dewpoint</th>\n",
              "      <th>road_condition</th>\n",
              "      <th>friction</th>\n",
              "      <th>ice_percent</th>\n",
              "      <th>temperature</th>\n",
              "      <th>water film height</th>\n",
              "      <th>humidity</th>\n",
              "      <th>datetime</th>\n",
              "      <th>conditions</th>\n",
              "    </tr>\n",
              "  </thead>\n",
              "  <tbody>\n",
              "    <tr>\n",
              "      <th>0</th>\n",
              "      <td>35.352935</td>\n",
              "      <td>-80.685312</td>\n",
              "      <td>179.94</td>\n",
              "      <td>15</td>\n",
              "      <td>29</td>\n",
              "      <td>60.88</td>\n",
              "      <td>0</td>\n",
              "      <td>0.82</td>\n",
              "      <td>0</td>\n",
              "      <td>67.93</td>\n",
              "      <td>0.0</td>\n",
              "      <td>78.02</td>\n",
              "      <td>2021-04-10 09:43:32</td>\n",
              "      <td>dry</td>\n",
              "    </tr>\n",
              "    <tr>\n",
              "      <th>1</th>\n",
              "      <td>35.354006</td>\n",
              "      <td>-80.684671</td>\n",
              "      <td>180.03</td>\n",
              "      <td>25</td>\n",
              "      <td>28</td>\n",
              "      <td>60.48</td>\n",
              "      <td>0</td>\n",
              "      <td>0.82</td>\n",
              "      <td>0</td>\n",
              "      <td>68.35</td>\n",
              "      <td>0.0</td>\n",
              "      <td>76.20</td>\n",
              "      <td>2021-04-10 09:43:43</td>\n",
              "      <td>dry</td>\n",
              "    </tr>\n",
              "    <tr>\n",
              "      <th>2</th>\n",
              "      <td>35.354875</td>\n",
              "      <td>-80.683904</td>\n",
              "      <td>179.93</td>\n",
              "      <td>28</td>\n",
              "      <td>25</td>\n",
              "      <td>60.28</td>\n",
              "      <td>0</td>\n",
              "      <td>0.82</td>\n",
              "      <td>0</td>\n",
              "      <td>68.46</td>\n",
              "      <td>0.0</td>\n",
              "      <td>75.19</td>\n",
              "      <td>2021-04-10 09:43:53</td>\n",
              "      <td>dry</td>\n",
              "    </tr>\n",
              "    <tr>\n",
              "      <th>3</th>\n",
              "      <td>35.354947</td>\n",
              "      <td>-80.683820</td>\n",
              "      <td>179.99</td>\n",
              "      <td>25</td>\n",
              "      <td>24</td>\n",
              "      <td>60.13</td>\n",
              "      <td>0</td>\n",
              "      <td>0.82</td>\n",
              "      <td>0</td>\n",
              "      <td>68.42</td>\n",
              "      <td>0.0</td>\n",
              "      <td>74.41</td>\n",
              "      <td>2021-04-10 09:44:03</td>\n",
              "      <td>dry</td>\n",
              "    </tr>\n",
              "    <tr>\n",
              "      <th>4</th>\n",
              "      <td>35.354947</td>\n",
              "      <td>-80.683820</td>\n",
              "      <td>179.99</td>\n",
              "      <td>25</td>\n",
              "      <td>24</td>\n",
              "      <td>60.08</td>\n",
              "      <td>0</td>\n",
              "      <td>0.82</td>\n",
              "      <td>0</td>\n",
              "      <td>68.64</td>\n",
              "      <td>0.0</td>\n",
              "      <td>74.20</td>\n",
              "      <td>2021-04-10 09:44:13</td>\n",
              "      <td>dry</td>\n",
              "    </tr>\n",
              "  </tbody>\n",
              "</table>\n",
              "</div>"
            ],
            "text/plain": [
              "    latitude  longitude  altitude  ...  humidity            datetime  conditions\n",
              "0  35.352935 -80.685312    179.94  ...     78.02 2021-04-10 09:43:32         dry\n",
              "1  35.354006 -80.684671    180.03  ...     76.20 2021-04-10 09:43:43         dry\n",
              "2  35.354875 -80.683904    179.93  ...     75.19 2021-04-10 09:43:53         dry\n",
              "3  35.354947 -80.683820    179.99  ...     74.41 2021-04-10 09:44:03         dry\n",
              "4  35.354947 -80.683820    179.99  ...     74.20 2021-04-10 09:44:13         dry\n",
              "\n",
              "[5 rows x 14 columns]"
            ]
          },
          "metadata": {},
          "execution_count": 5
        }
      ]
    },
    {
      "cell_type": "markdown",
      "metadata": {
        "id": "CgpIIlIwFhC8"
      },
      "source": [
        "# Plot Track Surface Measurements\n",
        "\n",
        "\n",
        "*   Top Left:  Surface Temperature\n",
        "*   Top Right:  Surface Wetness\n",
        "*   Bottom Left:  Humidity Near Surface\n",
        "*   Bottom Right:  Dewpoint Near Surface\n",
        "\n"
      ]
    },
    {
      "cell_type": "code",
      "metadata": {
        "colab": {
          "base_uri": "https://localhost:8080/",
          "height": 218
        },
        "id": "lnRvGArgcf6X",
        "outputId": "1b140a1b-efd5-41a8-ac47-973dd4dea610"
      },
      "source": [
        "fig, axes = plt.subplots(1,1,figsize=(5,10))\n",
        "sns.set(style='whitegrid')\n",
        "sns.scatterplot(x='longitude',y='latitude',hue='conditions',data=df,palette={'dry':'g','rain':'r','drying':'b','drizzle':'y'})\n",
        "\n"
      ],
      "execution_count": 1,
      "outputs": [
        {
          "output_type": "error",
          "ename": "NameError",
          "evalue": "ignored",
          "traceback": [
            "\u001b[0;31m---------------------------------------------------------------------------\u001b[0m",
            "\u001b[0;31mNameError\u001b[0m                                 Traceback (most recent call last)",
            "\u001b[0;32m<ipython-input-1-dd4b5efb9035>\u001b[0m in \u001b[0;36m<module>\u001b[0;34m()\u001b[0m\n\u001b[0;32m----> 1\u001b[0;31m \u001b[0mfig\u001b[0m\u001b[0;34m,\u001b[0m \u001b[0maxes\u001b[0m \u001b[0;34m=\u001b[0m \u001b[0mplt\u001b[0m\u001b[0;34m.\u001b[0m\u001b[0msubplots\u001b[0m\u001b[0;34m(\u001b[0m\u001b[0;36m1\u001b[0m\u001b[0;34m,\u001b[0m\u001b[0;36m1\u001b[0m\u001b[0;34m,\u001b[0m\u001b[0mfigsize\u001b[0m\u001b[0;34m=\u001b[0m\u001b[0;34m(\u001b[0m\u001b[0;36m5\u001b[0m\u001b[0;34m,\u001b[0m\u001b[0;36m10\u001b[0m\u001b[0;34m)\u001b[0m\u001b[0;34m)\u001b[0m\u001b[0;34m\u001b[0m\u001b[0;34m\u001b[0m\u001b[0m\n\u001b[0m\u001b[1;32m      2\u001b[0m \u001b[0msns\u001b[0m\u001b[0;34m.\u001b[0m\u001b[0mset\u001b[0m\u001b[0;34m(\u001b[0m\u001b[0mstyle\u001b[0m\u001b[0;34m=\u001b[0m\u001b[0;34m'whitegrid'\u001b[0m\u001b[0;34m)\u001b[0m\u001b[0;34m\u001b[0m\u001b[0;34m\u001b[0m\u001b[0m\n\u001b[1;32m      3\u001b[0m \u001b[0msns\u001b[0m\u001b[0;34m.\u001b[0m\u001b[0mscatterplot\u001b[0m\u001b[0;34m(\u001b[0m\u001b[0mx\u001b[0m\u001b[0;34m=\u001b[0m\u001b[0;34m'longitude'\u001b[0m\u001b[0;34m,\u001b[0m\u001b[0my\u001b[0m\u001b[0;34m=\u001b[0m\u001b[0;34m'latitude'\u001b[0m\u001b[0;34m,\u001b[0m\u001b[0mhue\u001b[0m\u001b[0;34m=\u001b[0m\u001b[0;34m'conditions'\u001b[0m\u001b[0;34m,\u001b[0m\u001b[0mdata\u001b[0m\u001b[0;34m=\u001b[0m\u001b[0mdf\u001b[0m\u001b[0;34m,\u001b[0m\u001b[0mpalette\u001b[0m\u001b[0;34m=\u001b[0m\u001b[0;34m{\u001b[0m\u001b[0;34m'dry'\u001b[0m\u001b[0;34m:\u001b[0m\u001b[0;34m'g'\u001b[0m\u001b[0;34m,\u001b[0m\u001b[0;34m'rain'\u001b[0m\u001b[0;34m:\u001b[0m\u001b[0;34m'r'\u001b[0m\u001b[0;34m,\u001b[0m\u001b[0;34m'drying'\u001b[0m\u001b[0;34m:\u001b[0m\u001b[0;34m'b'\u001b[0m\u001b[0;34m,\u001b[0m\u001b[0;34m'drizzle'\u001b[0m\u001b[0;34m:\u001b[0m\u001b[0;34m'y'\u001b[0m\u001b[0;34m}\u001b[0m\u001b[0;34m)\u001b[0m\u001b[0;34m\u001b[0m\u001b[0;34m\u001b[0m\u001b[0m\n\u001b[1;32m      4\u001b[0m \u001b[0;34m\u001b[0m\u001b[0m\n",
            "\u001b[0;31mNameError\u001b[0m: name 'plt' is not defined"
          ]
        }
      ]
    },
    {
      "cell_type": "code",
      "metadata": {
        "id": "quEfH9wGIbKQ"
      },
      "source": [
        "#Separate data by start/finish line, so separate into laps\n",
        "import math\n",
        "import numpy as np\n",
        "sf_inside = [-80.685503,35.352253,0]\n",
        "sf_outside = [-80.685667,35.352291,0]\n",
        "sf_inside_above_ground = [-80.685503,35.252253,200]\n",
        "\n",
        "earth_radius=6371*3280.84 #kilometers to feet\n",
        "sf_inside_point = [earth_radius*math.cos(sf_inside[1]*math.pi/180)*math.cos(sf_inside[0]*math.pi/180), earth_radius*math.cos(sf_inside[1]*math.pi/180)*math.sin(sf_inside[0]*math.pi/180), earth_radius*math.sin(sf_inside[1]*math.pi/180)]\n",
        "sf_outside_point = [earth_radius*math.cos(sf_outside[1]*math.pi/180)*math.cos(sf_outside[0]*math.pi/180), earth_radius*math.cos(sf_outside[1]*math.pi/180)*math.sin(sf_outside[0]*math.pi/180), earth_radius*math.sin(sf_outside[1]*math.pi/180)]\n",
        "sf_inside_above_ground_point = [earth_radius*math.cos(sf_inside_above_ground[1]*math.pi/180)*math.cos(sf_inside_above_ground[0]*math.pi/180), earth_radius*math.cos(sf_inside_above_ground[1]*math.pi/180)*math.sin(sf_inside_above_ground[0]*math.pi/180), earth_radius*math.sin(sf_inside_above_ground[1]*math.pi/180)]\n",
        "\n",
        "df['x']= earth_radius*np.cos(df['latitude']*math.pi/180)*np.cos(df['longitude']*math.pi/180)\n",
        "df['y']=earth_radius*np.cos(df['latitude']*math.pi/180)*np.sin(df['longitude']*math.pi/180)\n",
        "df['z']=earth_radius*np.sin(df['latitude']*math.pi/180)\n",
        "\n",
        "sf_vector_x = [sf_outside_point[0]-sf_inside_point[0], sf_outside_point[1]-sf_inside_point[1], sf_outside_point[2]-sf_inside_point[2]]\n",
        "ground_perpendicular_vector_z = [sf_inside_above_ground_point[0]-sf_inside_point[0], sf_inside_above_ground_point[1]-sf_inside_point[1], sf_inside_above_ground_point[2]-sf_inside_point[2]]\n",
        "travel_vector = np.cross(ground_perpendicular_vector_z,sf_vector_x)\n",
        "\n",
        "planeD = -1*travel_vector[0]*sf_inside_point[0] - travel_vector[1]*sf_inside_point[1] - travel_vector[2]*sf_inside_point[2]\n",
        "plane = [travel_vector[0],travel_vector[1],travel_vector[2],planeD]\n",
        "\n",
        "df['distance_sign'] = np.sign((plane[0]*df['x'] + plane[1]*df['y'] + plane[2]*df['z'] + plane[3])/math.sqrt(plane[0]**2+plane[1]**2+plane[2]**2))\n",
        "df['distance_sf'] = np.sqrt((df['x']-sf_inside_point[0])**2 + (df['y']-sf_inside_point[1])**2 + (df['z']-sf_inside_point[2])**2)\n",
        "df['lap']=1\n",
        "\n",
        "def get_df_sequence(seq,size):\n",
        "  return(seq.iloc[pos:pos+size] for pos in range(0, len(seq)-1))\n",
        "\n",
        "df['index_values']=df.index.values\n",
        "lap_array = np.zeros(df['index_values'].size)\n",
        "lap_series = pd.Series(lap_array)\n",
        "\n",
        "distance_array = np.zeros(df['index_values'].size)\n",
        "distance_series = pd.Series(distance_array)\n",
        "\n",
        "for i in get_df_sequence(df,2):\n",
        "  #print('index A: '+str(i.iloc[0].value)+', index B: '+str(i.iloc[1].value))\n",
        "  if i.iloc[1]['distance_sign'] != i.iloc[0]['distance_sign'] and i.iloc[1]['distance_sign']==-1 and i.iloc[1]['distance_sf']<=600:\n",
        "    print('index: '+str(i.iloc[1]['index_values']))\n",
        "    lap_series[i.iloc[1]['index_values']]=lap_series[i.iloc[0]['index_values']]+1\n",
        "    distance_series[i.iloc[1]['index_values']]=i.iloc[1]['distance_sf']\n",
        "  else:\n",
        "    lap_series[i.iloc[1]['index_values']]=lap_series[i.iloc[0]['index_values']]\n",
        "    distance_previous_point = np.sqrt((i.iloc[1]['x']-i.iloc[0]['x'])**2 + (i.iloc[1]['y']-i.iloc[0]['y'])**2)\n",
        "    distance_series[i.iloc[1]['index_values']]=distance_previous_point+distance_series[i.iloc[0]['index_values']]\n",
        "\n",
        "  #print(df.iloc[i.iloc[1]['index_values']]['lap'])\n",
        "\n",
        "df['lap']=lap_series\n",
        "df['distance_traveled']=distance_series\n"
      ],
      "execution_count": null,
      "outputs": []
    },
    {
      "cell_type": "code",
      "metadata": {
        "id": "p1Gg_WikMJfv"
      },
      "source": [
        "df=df.reset_index()\n",
        "ctdf = df.reset_index().groupby(['distance_traveled','lap'], as_index=False).count()\n",
        "\n",
        "\n",
        "\n"
      ],
      "execution_count": null,
      "outputs": []
    },
    {
      "cell_type": "code",
      "metadata": {
        "id": "U1BeDmuNmtHi"
      },
      "source": [
        "fig, ax = plt.subplots(2,1,figsize=(40,20))\n",
        "for key, data in df.groupby('lap'):\n",
        "  #sns.scatterplot(ax=ax, x='distance_traveled',y='temperature',data=df, hue=key)\n",
        "  data.plot(x='datetime',y='water film height',ax=ax[0], label=key)\n",
        "  data.plot(x='datetime',y='temperature',ax=ax[1], label=key)"
      ],
      "execution_count": null,
      "outputs": []
    },
    {
      "cell_type": "code",
      "metadata": {
        "id": "Vk4o58g6fEOw"
      },
      "source": [
        "fig, ax = plt.subplots(2,6,figsize=(40,10))\n",
        "for key, data in df.groupby('lap'):\n",
        "  #sns.scatterplot(ax=ax, x='distance_traveled',y='temperature',data=df, hue=key)\n",
        "  if key<7:\n",
        "    \n",
        "    plot_axis=ax[0,int(key)-1]\n",
        "  else:\n",
        "    print(key)\n",
        "    plot_axis=ax[1,int(key)-7]\n",
        "  data.plot(ax=plot_axis,x='longitude',y='latitude', label=key)"
      ],
      "execution_count": null,
      "outputs": []
    },
    {
      "cell_type": "code",
      "metadata": {
        "id": "XCg8xQjKQgfh"
      },
      "source": [
        ""
      ],
      "execution_count": null,
      "outputs": []
    },
    {
      "cell_type": "code",
      "metadata": {
        "id": "2DS0nS5X-kjo"
      },
      "source": [
        "\n",
        "from datetime import datetime\n",
        "fig, axes = plt.subplots(2,2,figsize=(30,10))\n",
        "sns.set(style='whitegrid')\n",
        "sns.scatterplot(ax=axes[0,0], x='datetime',y='temperature',hue='conditions',data=df,palette={'dry':'g','rain':'r','drying':'b','drizzle':'y'})\n",
        "\n",
        "sns.scatterplot(ax=axes[0,1],x='datetime',y='water film height',hue='conditions',data=df,palette={'dry':'g','rain':'r','drying':'b','drizzle':'y'})\n",
        "sns.scatterplot(ax=axes[1,0], x='datetime',y='humidity',hue='conditions',data=df,palette={'dry':'g','rain':'r','drying':'b','drizzle':'y'})\n",
        "sns.scatterplot(ax=axes[1,1],x='datetime',y='dewpoint',hue='conditions',data=df,palette={'dry':'g','rain':'r','drying':'b','drizzle':'y'})"
      ],
      "execution_count": null,
      "outputs": []
    }
  ]
}